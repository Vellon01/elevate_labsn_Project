{
 "cells": [
  {
   "cell_type": "code",
   "execution_count": 25,
   "id": "f1263011",
   "metadata": {},
   "outputs": [],
   "source": [
    "import pandas as pd"
   ]
  },
  {
   "cell_type": "code",
   "execution_count": 26,
   "id": "7a9f12d4",
   "metadata": {},
   "outputs": [],
   "source": [
    "# Load the dataset\n",
    "df=pd.read_csv(\"owid-co2-data.csv\")"
   ]
  },
  {
   "cell_type": "code",
   "execution_count": 27,
   "id": "e1eb391a",
   "metadata": {},
   "outputs": [],
   "source": [
    "# Drop aggregates like 'World', 'Asia', etc. Keep only countries\n",
    "df = df[~df['iso_code'].isin(['OWID_WRL', 'OWID_ASI', 'OWID_EUN', 'OWID_NAM', 'OWID_AFR', 'OWID_EUR', 'OWID_LAC', 'OWID_OCE', 'OWID_SAM'])]"
   ]
  },
  {
   "cell_type": "code",
   "execution_count": 28,
   "id": "60d1a655",
   "metadata": {},
   "outputs": [
    {
     "data": {
      "text/plain": [
       "Index(['country', 'year', 'iso_code', 'population', 'gdp', 'cement_co2',\n",
       "       'cement_co2_per_capita', 'co2', 'co2_growth_abs', 'co2_growth_prct',\n",
       "       'co2_including_luc', 'co2_including_luc_growth_abs',\n",
       "       'co2_including_luc_growth_prct', 'co2_including_luc_per_capita',\n",
       "       'co2_including_luc_per_gdp', 'co2_including_luc_per_unit_energy',\n",
       "       'co2_per_capita', 'co2_per_gdp', 'co2_per_unit_energy', 'coal_co2',\n",
       "       'coal_co2_per_capita', 'consumption_co2', 'consumption_co2_per_capita',\n",
       "       'consumption_co2_per_gdp', 'cumulative_cement_co2', 'cumulative_co2',\n",
       "       'cumulative_co2_including_luc', 'cumulative_coal_co2',\n",
       "       'cumulative_flaring_co2', 'cumulative_gas_co2', 'cumulative_luc_co2',\n",
       "       'cumulative_oil_co2', 'cumulative_other_co2', 'energy_per_capita',\n",
       "       'energy_per_gdp', 'flaring_co2', 'flaring_co2_per_capita', 'gas_co2',\n",
       "       'gas_co2_per_capita', 'ghg_excluding_lucf_per_capita', 'ghg_per_capita',\n",
       "       'land_use_change_co2', 'land_use_change_co2_per_capita', 'methane',\n",
       "       'methane_per_capita', 'nitrous_oxide', 'nitrous_oxide_per_capita',\n",
       "       'oil_co2', 'oil_co2_per_capita', 'other_co2_per_capita',\n",
       "       'other_industry_co2', 'primary_energy_consumption',\n",
       "       'share_global_cement_co2', 'share_global_co2',\n",
       "       'share_global_co2_including_luc', 'share_global_coal_co2',\n",
       "       'share_global_cumulative_cement_co2', 'share_global_cumulative_co2',\n",
       "       'share_global_cumulative_co2_including_luc',\n",
       "       'share_global_cumulative_coal_co2',\n",
       "       'share_global_cumulative_flaring_co2',\n",
       "       'share_global_cumulative_gas_co2', 'share_global_cumulative_luc_co2',\n",
       "       'share_global_cumulative_oil_co2', 'share_global_cumulative_other_co2',\n",
       "       'share_global_flaring_co2', 'share_global_gas_co2',\n",
       "       'share_global_luc_co2', 'share_global_oil_co2',\n",
       "       'share_global_other_co2', 'share_of_temperature_change_from_ghg',\n",
       "       'temperature_change_from_ch4', 'temperature_change_from_co2',\n",
       "       'temperature_change_from_ghg', 'temperature_change_from_n2o',\n",
       "       'total_ghg', 'total_ghg_excluding_lucf', 'trade_co2',\n",
       "       'trade_co2_share'],\n",
       "      dtype='object')"
      ]
     },
     "execution_count": 28,
     "metadata": {},
     "output_type": "execute_result"
    }
   ],
   "source": [
    "df.columns"
   ]
  },
  {
   "cell_type": "code",
   "execution_count": 29,
   "id": "b0b82761",
   "metadata": {},
   "outputs": [],
   "source": [
    "# Select key columns\n",
    "cols = ['country', 'year', 'co2', 'co2_growth_prct', 'co2_per_capita', 'co2_per_gdp', 'gdp', 'population','coal_co2', 'oil_co2', 'gas_co2','other_industry_co2','trade_co2','co2_per_unit_energy']\n",
    "df = df[cols]"
   ]
  },
  {
   "cell_type": "code",
   "execution_count": 30,
   "id": "523a471c",
   "metadata": {},
   "outputs": [],
   "source": [
    "# Filter years\n",
    "df = df[df['year'] >= 1990]"
   ]
  },
  {
   "cell_type": "code",
   "execution_count": 31,
   "id": "e24f8157",
   "metadata": {},
   "outputs": [],
   "source": [
    "# Drop rows with missing values in key fields\n",
    "df = df.dropna(subset=['co2', 'co2_per_capita', 'co2_per_gdp'])"
   ]
  },
  {
   "cell_type": "code",
   "execution_count": 32,
   "id": "c70ebcf9",
   "metadata": {},
   "outputs": [
    {
     "data": {
      "text/plain": [
       "Index(['country', 'year', 'co2', 'co2_growth_prct', 'co2_per_capita',\n",
       "       'co2_per_gdp', 'gdp', 'population', 'coal_co2', 'oil_co2', 'gas_co2',\n",
       "       'other_industry_co2', 'trade_co2', 'co2_per_unit_energy'],\n",
       "      dtype='object')"
      ]
     },
     "execution_count": 32,
     "metadata": {},
     "output_type": "execute_result"
    }
   ],
   "source": [
    "df.columns"
   ]
  },
  {
   "cell_type": "code",
   "execution_count": 33,
   "id": "140af65b",
   "metadata": {},
   "outputs": [
    {
     "name": "stdout",
     "output_type": "stream",
     "text": [
      "Cleaned dataset saved as 'cleaned_emissions_data.csv'\n"
     ]
    }
   ],
   "source": [
    "# Save cleaned version\n",
    "df.to_csv(\"cleaned_emissions_data.csv\", index=False)\n",
    "print(\"Cleaned dataset saved as 'cleaned_emissions_data.csv'\")"
   ]
  }
 ],
 "metadata": {
  "kernelspec": {
   "display_name": "base",
   "language": "python",
   "name": "python3"
  },
  "language_info": {
   "codemirror_mode": {
    "name": "ipython",
    "version": 3
   },
   "file_extension": ".py",
   "mimetype": "text/x-python",
   "name": "python",
   "nbconvert_exporter": "python",
   "pygments_lexer": "ipython3",
   "version": "3.11.7"
  }
 },
 "nbformat": 4,
 "nbformat_minor": 5
}
